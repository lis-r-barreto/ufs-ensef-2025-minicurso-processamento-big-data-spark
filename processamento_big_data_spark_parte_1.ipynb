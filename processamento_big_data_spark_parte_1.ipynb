{
  "nbformat": 4,
  "nbformat_minor": 0,
  "metadata": {
    "colab": {
      "provenance": [],
      "authorship_tag": "ABX9TyNLyIbNK6SrUEXx1cbBvCFa",
      "include_colab_link": true
    },
    "kernelspec": {
      "name": "python3",
      "display_name": "Python 3"
    },
    "language_info": {
      "name": "python"
    }
  },
  "cells": [
    {
      "cell_type": "markdown",
      "metadata": {
        "id": "view-in-github",
        "colab_type": "text"
      },
      "source": [
        "<a href=\"https://colab.research.google.com/github/lis-r-barreto/ufs-ensef-2025-minicurso-processamento-big-data-spark/blob/main/processamento_big_data_spark_parte_1.ipynb\" target=\"_parent\"><img src=\"https://colab.research.google.com/assets/colab-badge.svg\" alt=\"Open In Colab\"/></a>"
      ]
    },
    {
      "cell_type": "markdown",
      "source": [
        "# Fundamentos de PySpark e Processamento de Dados"
      ],
      "metadata": {
        "id": "6EHGYKBIzSo-"
      }
    },
    {
      "cell_type": "markdown",
      "metadata": {
        "id": "53b800fe"
      },
      "source": [
        "## 1. Introdução ao Apache Spark\n",
        "\n",
        "O Apache Spark é um poderoso motor de processamento de dados em larga escala e análise unificada, projetado para ser rápido e flexível. Construído sobre o conceito de Resilient Distributed Datasets (RDDs), o Spark oferece APIs em Java, Scala, Python e R, além de um otimizador de consulta de alto desempenho (Catalyst) e um motor de execução distribuído (Tungsten).\n",
        "\n",
        "Ele se destaca por sua capacidade de realizar processamento em memória, o que o torna significativamente mais rápido que abordagens baseadas em disco, como o Hadoop MapReduce, para muitos tipos de cargas de trabalho. O Spark é amplamente utilizado para processamento de Big Data, ETL, Machine Learning, processamento de grafos e computação em tempo real.\n",
        "\n",
        "![](https://imgs.search.brave.com/nz4X42G5-k9Xm04sqxSKLSnZ68PVGuDspIsj-z10XO8/rs:fit:860:0:0:0/g:ce/aHR0cHM6Ly9kMS5h/d3NzdGF0aWMuY29t/L0RhdGElMjBMYWtl/L3doYXQtaXMtYXBh/Y2hlLXNwYXJrLmIz/YTMwOTkyOTY5MzZk/ZjU5NWQ5YTdkMzYx/MGYxYTc3ZmYwNzQ5/ZGYuUE5H)"
      ]
    },
    {
      "cell_type": "markdown",
      "metadata": {
        "id": "4dda63f0"
      },
      "source": [
        "### 1.1. Arquitetura do Spark: processamento distribuído\n",
        "\n",
        "A arquitetura do Apache Spark é baseada em um modelo de processamento distribuído que permite lidar com grandes volumes de dados em paralelo. Os principais componentes dessa arquitetura são:\n",
        "\n",
        "*   **Driver Program:** O processo principal que executa a função `main()` do seu programa e cria o `SparkContext` ou `SparkSession`. Ele coordena as operações paralelas e distribui as tarefas entre os *executors*.\n",
        "*   **Cluster Manager:** Responsável por gerenciar os recursos do cluster (como máquinas virtuais ou contêineres). Exemplos incluem o YARN, Mesos, Kubernetes ou o *standalone scheduler* do próprio Spark. Ele aloca recursos para a aplicação Spark.\n",
        "*   **Worker Nodes:** Máquinas no cluster que executam as tarefas atribuídas pelo Driver Program. Cada *worker node* pode ter um ou mais *executors*.\n",
        "*   **Executors:** Processos que rodam nos *worker nodes* e são responsáveis por executar as tarefas individuais (partições de dados) que compõem uma aplicação Spark. Eles armazenam dados em cache e retornam os resultados para o Driver Program.\n",
        "\n",
        "A comunicação entre o Driver Program e os Executors é fundamental para o processamento distribuído. O Driver divide a aplicação em *stages* e *tasks*, que são então enviadas para os Executors para execução.\n",
        "\n",
        "\n",
        "![](https://imgs.search.brave.com/fFJLDPStnmxviZcN6lSFK0vOORvnKcpWVqAWp3zDhH4/rs:fit:860:0:0:0/g:ce/aHR0cHM6Ly9tZWRp/YS5kYXRhY2FtcC5j/b20vY21zL2FkXzRu/eGZ5ZG96cmg3LXp6/dHAwMWE4dmJtdG01/ZmlycWllMGpjbHpw/YzZocjh2NXFsZDJp/a2ExZnZfaGt1dWRu/bW03emZtYWp4cmY2/OHgyZW40LXhycHpt/aWdoYm90LWw4Z3dr/dnJ6ZnFsc25wbXNl/azhneHF2czE3c3Ro/emt5bnd4YnRwMTl6/MmY4LnBuZw)"
      ]
    },
    {
      "cell_type": "markdown",
      "metadata": {
        "id": "ae1887d3"
      },
      "source": [
        "### 1.2. Estruturas de Dados no Spark\n",
        "\n",
        "O Apache Spark trabalha com diferentes abstrações de dados, cada uma com suas características e casos de uso. As principais estruturas de dados são:\n",
        "\n",
        "1.  **Resilient Distributed Datasets (RDDs):** A abstração original do Spark. RDDs são coleções de objetos imutáveis e distribuídos que podem ser operados em paralelo. Eles oferecem controle de baixo nível sobre o processamento e são ideais para dados não estruturados ou quando você precisa de controle preciso sobre as partições.\n",
        "\n",
        "2.  **DataFrames:** Introduzidos no Spark 1.3, DataFrames são coleções distribuídas de dados organizados em colunas nomeadas. Eles são conceitualmente equivalentes a tabelas em bancos de dados relacionais ou data frames em R/Python. DataFrames fornecem otimizações de performance através do Catalyst Optimizer e são mais fáceis de usar com dados estruturados ou semiestruturados.\n",
        "\n",
        "3.  **Datasets:** Adicionados no Spark 1.6, Datasets combinam as vantagens dos RDDs (segurança de tipo em tempo de compilação) com as otimizações de DataFrames. Eles são uma coleção de objetos JVM tipados e distribuídos. Datasets são primariamente úteis em Scala e Java devido à verificação de tipo em tempo de compilação. Em PySpark, Datasets e DataFrames são essencialmente a mesma API.\n",
        "\n",
        "\n",
        "![](https://lam-tran.dev/assets/images/RDD-Dataframe-Dataset-bcdbc9781335a0251713276723599867.svg)"
      ]
    },
    {
      "cell_type": "markdown",
      "source": [
        "## 2. Configurações Iniciais"
      ],
      "metadata": {
        "id": "5B1MDBIwa3Vo"
      }
    },
    {
      "cell_type": "code",
      "execution_count": 1,
      "metadata": {
        "id": "d7j7Ns5i8CuL"
      },
      "outputs": [],
      "source": [
        "!pip --quiet install pyspark kagglehub pyngrok"
      ]
    },
    {
      "cell_type": "code",
      "source": [
        "import kagglehub # Para baixar datasets do Kaggle\n",
        "from pyspark.sql import SparkSession # Para criar e gerenciar a sessão Spark\n",
        "from pyspark.sql.functions import col, count, sum, when # Funções úteis para manipulação de DataFrames\n",
        "from plotly.subplots import make_subplots # Para criar gráficos com múltiplos subplots\n",
        "import plotly.graph_objects as go # Para construir figuras e gráficos Plotly\n",
        "from pyngrok import ngrok # Para criar um túnel público para a Spark UI"
      ],
      "metadata": {
        "id": "Xh7W7KinanbO"
      },
      "execution_count": 2,
      "outputs": []
    },
    {
      "cell_type": "markdown",
      "source": [
        "## 3. Importação dos dados\n",
        "\n",
        "**PaySim** é um dataset sintético de transações financeiras móveis, gerado a partir de dados reais, que simula operações e fraudes para pesquisa em detecção de fraudes. Inclui tipos, valores, saldos e marcações de fraude em 30 dias de transações.\n",
        "\n",
        "Disponível no Kaggle: https://www.kaggle.com/datasets/ealaxi/paysim1\n",
        "\n",
        "### 3.1. Descrição dos Campos do Dataset\n",
        "Abaixo estão os campos do dataset PaySim, com explicações resumidas em português sobre o que cada um representa.**\n",
        "\n",
        "---\n",
        "\n",
        "| Campo              | Descrição                                                                                   |\n",
        "|--------------------|-------------------------------------------------------------------------------------------------------|\n",
        "| **step**           | Unidade de tempo (1 passo = 1 hora). Total de 744 passos (30 dias de simulação).                      |\n",
        "| **type**           | Tipo de transação: CASH-IN, CASH-OUT, DEBIT, PAYMENT ou TRANSFER.                                     |\n",
        "| **amount**         | Valor da transação na moeda local.                                                                    |\n",
        "| **nameOrig**       | Identificador do cliente que iniciou a transação.                                                     |\n",
        "| **oldbalanceOrg**  | Saldo do cliente antes da transação.                                                                  |\n",
        "| **newbalanceOrig** | Saldo do cliente após a transação.                                                                    |\n",
        "| **nameDest**       | Identificador do destinatário da transação.                                                           |\n",
        "| **oldbalanceDest** | Saldo do destinatário antes da transação (não disponível para comerciantes, identificados por \"M\").    |\n",
        "| **newbalanceDest** | Saldo do destinatário após a transação (não disponível para comerciantes, identificados por \"M\").      |\n",
        "| **isFraud**        | Indica se a transação é fraudulenta (1 para fraude, 0 para normal).                                   |\n",
        "| **isFlaggedFraud** | Indica se a transação foi sinalizada como tentativa ilegal (1 para sinalizada, 0 para não sinalizada).|"
      ],
      "metadata": {
        "id": "aKXtVAr2aRf_"
      }
    },
    {
      "cell_type": "code",
      "source": [
        "path = kagglehub.dataset_download(\"ealaxi/paysim1\")\n",
        "\n",
        "print(\"Path to dataset files:\", path)\n",
        "\n",
        "csv_file = f\"{path}/PS_20174392719_1491204439457_log.csv\"\n",
        "print(\"CSV file:\", csv_file)"
      ],
      "metadata": {
        "colab": {
          "base_uri": "https://localhost:8080/"
        },
        "id": "GLYrpGNoXzRb",
        "outputId": "8729562e-674c-40fc-bf9f-f251fd5f0a31"
      },
      "execution_count": 3,
      "outputs": [
        {
          "output_type": "stream",
          "name": "stdout",
          "text": [
            "Path to dataset files: /kaggle/input/paysim1\n",
            "CSV file: /kaggle/input/paysim1/PS_20174392719_1491204439457_log.csv\n"
          ]
        }
      ]
    },
    {
      "cell_type": "markdown",
      "source": [
        "## 4. Configurando a Sessão Spark"
      ],
      "metadata": {
        "id": "ybuM_H3B1RpQ"
      }
    },
    {
      "cell_type": "markdown",
      "source": [
        "Primeiramente, criamos a sessão spark a partir do comando abaixo:"
      ],
      "metadata": {
        "id": "JNpgExbUcejU"
      }
    },
    {
      "cell_type": "code",
      "source": [
        "spark = (\n",
        "    SparkSession.builder\n",
        "    .master(\"local[*]\")  # Use todos os núcleos disponíveis na máquina local\n",
        "    .appName(\"ColabOptimized\")  # Define um nome para a aplicação Spark\n",
        "    .config(\"spark.ui.port\", \"4050\")  # Configura a porta para a interface web do Spark UI\n",
        "    .config(\"spark.sql.execution.arrow.pyspark.enabled\", \"true\")  # Habilita a conversão rápida de dados entre Spark e Pandas DataFrames usando Apache Arrow\n",
        "    .config(\"spark.sql.repl.eagerEval.enabled\", \"true\")  # Permite que os DataFrames sejam exibidos automaticamente no console\n",
        "    .config(\"spark.driver.memory\", \"4g\")  # Define a quantidade máxima de memória para o driver Spark\n",
        "    .config(\"spark.sql.shuffle.partitions\", \"8\")  # Define o número de partições para operações de shuffle; um número menor pode ser melhor para dados pequenos/médios\n",
        "    .config(\"spark.serializer\", \"org.apache.spark.serializer.KryoSerializer\")  # Define o serializador a ser usado; Kryo é geralmente mais rápido que o padrão Java\n",
        "    .config(\"spark.kryoserializer.buffer.max\", \"2000\")  # Define o tamanho máximo do buffer do serializador Kryo em megabytes\n",
        "    .config(\"spark.driver.maxResultSize\", \"1g\")  # Define o tamanho máximo dos resultados coletados do executor para o driver\n",
        "    .config(\"spark.dynamicAllocation.enabled\",\"true\") # Habilita alocação dinâmica de recursos (executors)\n",
        "    .config(\"spark.dynamicAllocation.minExecutors\",\"2\") # Define o número mínimo de executors quando a alocação dinâmica está habilitada\n",
        "    .config(\"spark.dynamicAllocation.maxExecutors\",\"20\") # Define o número máximo de executors quando a alocação dinâmica está habilitada\n",
        "    .config(\"spark.sql.adaptive.enabled\", \"true\") # Habilita a execução adaptativa de queries, que pode otimizar planos de execução em tempo de execução\n",
        "    .config(\"spark.sql.adaptive.coalescePartitions.enabled\", \"true\") # Habilita a coalescência de partições na execução adaptativa para reduzir o número de partições\n",
        "    .getOrCreate()\n",
        ")"
      ],
      "metadata": {
        "id": "Itqg-0RrXimo"
      },
      "execution_count": 4,
      "outputs": []
    },
    {
      "cell_type": "markdown",
      "source": [
        "E logo após, fazemos criamos o dataframe a partir da leitura do csv:"
      ],
      "metadata": {
        "id": "uV3ZHIgwcm0M"
      }
    },
    {
      "cell_type": "code",
      "source": [
        "try:\n",
        "  df_csv = spark.read.csv(\n",
        "      csv_file,\n",
        "      header=True,\n",
        "      inferSchema=True\n",
        "  )\n",
        "  print(\"Dataframe criado com sucesso!\")\n",
        "  print(\"Schema do dataframe:\")\n",
        "  df_csv.printSchema()\n",
        "  print(\"Primeiras 5 linhas do dataframe:\")\n",
        "  df_csv.show(5)\n",
        "except Exception as e:\n",
        "  print(e)"
      ],
      "metadata": {
        "colab": {
          "base_uri": "https://localhost:8080/"
        },
        "id": "OhVsq9RBav2_",
        "outputId": "d0c246a8-3688-4495-b0d9-03690a374610"
      },
      "execution_count": 5,
      "outputs": [
        {
          "output_type": "stream",
          "name": "stdout",
          "text": [
            "Dataframe criado com sucesso!\n",
            "Schema do dataframe:\n",
            "root\n",
            " |-- step: integer (nullable = true)\n",
            " |-- type: string (nullable = true)\n",
            " |-- amount: double (nullable = true)\n",
            " |-- nameOrig: string (nullable = true)\n",
            " |-- oldbalanceOrg: double (nullable = true)\n",
            " |-- newbalanceOrig: double (nullable = true)\n",
            " |-- nameDest: string (nullable = true)\n",
            " |-- oldbalanceDest: double (nullable = true)\n",
            " |-- newbalanceDest: double (nullable = true)\n",
            " |-- isFraud: integer (nullable = true)\n",
            " |-- isFlaggedFraud: integer (nullable = true)\n",
            "\n",
            "Primeiras 5 linhas do dataframe:\n",
            "+----+--------+--------+-----------+-------------+--------------+-----------+--------------+--------------+-------+--------------+\n",
            "|step|    type|  amount|   nameOrig|oldbalanceOrg|newbalanceOrig|   nameDest|oldbalanceDest|newbalanceDest|isFraud|isFlaggedFraud|\n",
            "+----+--------+--------+-----------+-------------+--------------+-----------+--------------+--------------+-------+--------------+\n",
            "|   1| PAYMENT| 9839.64|C1231006815|     170136.0|     160296.36|M1979787155|           0.0|           0.0|      0|             0|\n",
            "|   1| PAYMENT| 1864.28|C1666544295|      21249.0|      19384.72|M2044282225|           0.0|           0.0|      0|             0|\n",
            "|   1|TRANSFER|   181.0|C1305486145|        181.0|           0.0| C553264065|           0.0|           0.0|      1|             0|\n",
            "|   1|CASH_OUT|   181.0| C840083671|        181.0|           0.0|  C38997010|       21182.0|           0.0|      1|             0|\n",
            "|   1| PAYMENT|11668.14|C2048537720|      41554.0|      29885.86|M1230701703|           0.0|           0.0|      0|             0|\n",
            "+----+--------+--------+-----------+-------------+--------------+-----------+--------------+--------------+-------+--------------+\n",
            "only showing top 5 rows\n",
            "\n"
          ]
        }
      ]
    },
    {
      "cell_type": "markdown",
      "source": [
        "## 5. Conversão de Tipos de Arquivo\n",
        "\n",
        "Se você estiver trabalhando com um grande conjunto de dados, dê preferências a formatos de dados colunares que favoreçam o processamento, como o parquet. Parquet otimiza consultas, reduz espaço e acelera o processamento em big data com Spark\n"
      ],
      "metadata": {
        "id": "KwBlQU49pWvD"
      }
    },
    {
      "cell_type": "code",
      "source": [
        "# Define o caminho de saída para o arquivo Parquet em um diretório gravável\n",
        "parquet_output_path = \"/content/paysim.parquet\"\n",
        "\n",
        "# Escreve o DataFrame no formato Parquet\n",
        "df_csv.write.parquet(parquet_output_path, mode=\"overwrite\")\n",
        "\n",
        "print(f\"Arquivo CSV convertido para Parquet e salvo em: {parquet_output_path}\")\n",
        "\n",
        "df = spark.read.parquet(parquet_output_path)"
      ],
      "metadata": {
        "colab": {
          "base_uri": "https://localhost:8080/"
        },
        "id": "d2N3HFEhox1k",
        "outputId": "ebe05ae6-b1a2-4a27-a55b-5bde67644256"
      },
      "execution_count": 6,
      "outputs": [
        {
          "output_type": "stream",
          "name": "stdout",
          "text": [
            "Arquivo CSV convertido para Parquet e salvo em: /content/paysim.parquet\n"
          ]
        }
      ]
    },
    {
      "cell_type": "code",
      "source": [
        "# Estatísticas descritivas para colunas numéricas\n",
        "df.describe().show()"
      ],
      "metadata": {
        "colab": {
          "base_uri": "https://localhost:8080/"
        },
        "id": "s6XJtTOQca7y",
        "outputId": "403c7f79-0391-46b3-d305-ce2c988ee350"
      },
      "execution_count": 7,
      "outputs": [
        {
          "output_type": "stream",
          "name": "stdout",
          "text": [
            "+-------+------------------+--------+------------------+-----------+-----------------+------------------+-----------+------------------+------------------+--------------------+--------------------+\n",
            "|summary|              step|    type|            amount|   nameOrig|    oldbalanceOrg|    newbalanceOrig|   nameDest|    oldbalanceDest|    newbalanceDest|             isFraud|      isFlaggedFraud|\n",
            "+-------+------------------+--------+------------------+-----------+-----------------+------------------+-----------+------------------+------------------+--------------------+--------------------+\n",
            "|  count|           6362620| 6362620|           6362620|    6362620|          6362620|           6362620|    6362620|           6362620|           6362620|             6362620|             6362620|\n",
            "|   mean|243.39724563151657|    NULL|179861.90354912955|       NULL| 833883.104074466| 855113.6685785623|       NULL|1100701.6665196575|1224996.3982019091|0.001290820448180152| 2.51468734577894E-6|\n",
            "| stddev|142.33197104912998|    NULL| 603858.2314629173|       NULL|2888242.673037513|2924048.5029542376|       NULL|3399180.1129944474| 3674128.942119666|0.035904796801603925|0.001585774705736548|\n",
            "|    min|                 1| CASH_IN|               0.0|C1000000639|              0.0|               0.0|C1000004082|               0.0|               0.0|                   0|                   0|\n",
            "|    max|               743|TRANSFER|     9.244551664E7| C999999784|    5.958504037E7|     4.958504037E7| M999999784|    3.5601588935E8|    3.5617927892E8|                   1|                   1|\n",
            "+-------+------------------+--------+------------------+-----------+-----------------+------------------+-----------+------------------+------------------+--------------------+--------------------+\n",
            "\n"
          ]
        }
      ]
    },
    {
      "cell_type": "code",
      "source": [
        "# Contagem de transações por tipo\n",
        "df.groupBy(\"type\").agg(count(\"*\").alias(\"qtd_transacoes\")).show()"
      ],
      "metadata": {
        "colab": {
          "base_uri": "https://localhost:8080/"
        },
        "id": "0kxen4zbewcG",
        "outputId": "9fdfb581-1a96-4fc5-e3ff-bc0cc7c112df"
      },
      "execution_count": 8,
      "outputs": [
        {
          "output_type": "stream",
          "name": "stdout",
          "text": [
            "+--------+--------------+\n",
            "|    type|qtd_transacoes|\n",
            "+--------+--------------+\n",
            "| PAYMENT|       2151495|\n",
            "|   DEBIT|         41432|\n",
            "| CASH_IN|       1399284|\n",
            "|CASH_OUT|       2237500|\n",
            "|TRANSFER|        532909|\n",
            "+--------+--------------+\n",
            "\n"
          ]
        }
      ]
    },
    {
      "cell_type": "code",
      "source": [
        "# Proporção de transações fraudulentas\n",
        "total = df.count()\n",
        "fraudes = df.filter(col(\"isFraud\") == 1).count()\n",
        "print(f\"Proporção de fraudes: {fraudes/total:.4%}\")"
      ],
      "metadata": {
        "colab": {
          "base_uri": "https://localhost:8080/"
        },
        "id": "LkVb8sNhe431",
        "outputId": "82c78f51-0725-4f57-c975-a77af00c79ba"
      },
      "execution_count": 9,
      "outputs": [
        {
          "output_type": "stream",
          "name": "stdout",
          "text": [
            "Proporção de fraudes: 0.1291%\n"
          ]
        }
      ]
    },
    {
      "cell_type": "code",
      "source": [
        "# Estatísticas dos valores das transações\n",
        "df.select(\"amount\").describe().show()"
      ],
      "metadata": {
        "colab": {
          "base_uri": "https://localhost:8080/"
        },
        "id": "Ca86HVmCe9S6",
        "outputId": "91f2ec42-bebc-4eaa-b7e6-203ff31f3111"
      },
      "execution_count": 10,
      "outputs": [
        {
          "output_type": "stream",
          "name": "stdout",
          "text": [
            "+-------+------------------+\n",
            "|summary|            amount|\n",
            "+-------+------------------+\n",
            "|  count|           6362620|\n",
            "|   mean|179861.90354912955|\n",
            "| stddev| 603858.2314629173|\n",
            "|    min|               0.0|\n",
            "|    max|     9.244551664E7|\n",
            "+-------+------------------+\n",
            "\n"
          ]
        }
      ]
    },
    {
      "cell_type": "code",
      "source": [
        "# Estatísticas dos saldos antes e depois da transação para o originador\n",
        "df.select(\"oldbalanceOrg\", \"newbalanceOrig\").describe().show()"
      ],
      "metadata": {
        "colab": {
          "base_uri": "https://localhost:8080/"
        },
        "id": "Ti5YbrXSfAQH",
        "outputId": "9c63dbb6-e433-425f-819c-7852bb40ff6d"
      },
      "execution_count": 11,
      "outputs": [
        {
          "output_type": "stream",
          "name": "stdout",
          "text": [
            "+-------+-----------------+------------------+\n",
            "|summary|    oldbalanceOrg|    newbalanceOrig|\n",
            "+-------+-----------------+------------------+\n",
            "|  count|          6362620|           6362620|\n",
            "|   mean| 833883.104074466| 855113.6685785623|\n",
            "| stddev|2888242.673037513|2924048.5029542376|\n",
            "|    min|              0.0|               0.0|\n",
            "|    max|    5.958504037E7|     4.958504037E7|\n",
            "+-------+-----------------+------------------+\n",
            "\n"
          ]
        }
      ]
    },
    {
      "cell_type": "code",
      "source": [
        "# Contagem de transações sinalizadas como fraude\n",
        "df.groupBy(\"isFlaggedFraud\").count().show()"
      ],
      "metadata": {
        "colab": {
          "base_uri": "https://localhost:8080/"
        },
        "id": "mJLk91zKfFU_",
        "outputId": "0fa47f20-8d04-4ca0-c071-c2da54adcd34"
      },
      "execution_count": 12,
      "outputs": [
        {
          "output_type": "stream",
          "name": "stdout",
          "text": [
            "+--------------+-------+\n",
            "|isFlaggedFraud|  count|\n",
            "+--------------+-------+\n",
            "|             1|     16|\n",
            "|             0|6362604|\n",
            "+--------------+-------+\n",
            "\n"
          ]
        }
      ]
    },
    {
      "cell_type": "code",
      "source": [
        "# Conta valores nulos em cada coluna\n",
        "df.select([sum(when(col(c).isNull(), 1).otherwise(0)).alias(c) for c in df.columns]).show()"
      ],
      "metadata": {
        "colab": {
          "base_uri": "https://localhost:8080/"
        },
        "id": "JEjoDlgMfVbD",
        "outputId": "9c64612c-0d15-400d-f6f6-db68c93936bc"
      },
      "execution_count": 13,
      "outputs": [
        {
          "output_type": "stream",
          "name": "stdout",
          "text": [
            "+----+----+------+--------+-------------+--------------+--------+--------------+--------------+-------+--------------+\n",
            "|step|type|amount|nameOrig|oldbalanceOrg|newbalanceOrig|nameDest|oldbalanceDest|newbalanceDest|isFraud|isFlaggedFraud|\n",
            "+----+----+------+--------+-------------+--------------+--------+--------------+--------------+-------+--------------+\n",
            "|   0|   0|     0|       0|            0|             0|       0|             0|             0|      0|             0|\n",
            "+----+----+------+--------+-------------+--------------+--------+--------------+--------------+-------+--------------+\n",
            "\n"
          ]
        }
      ]
    },
    {
      "cell_type": "code",
      "source": [
        "# Clientes que mais iniciaram transações\n",
        "df.groupBy(\"nameOrig\").count().orderBy(col(\"count\").desc()).show(5)"
      ],
      "metadata": {
        "colab": {
          "base_uri": "https://localhost:8080/"
        },
        "id": "IoFg1OnZfhO_",
        "outputId": "68e2ffac-3350-43e5-fb2e-8e5ff99cecd7"
      },
      "execution_count": 14,
      "outputs": [
        {
          "output_type": "stream",
          "name": "stdout",
          "text": [
            "+-----------+-----+\n",
            "|   nameOrig|count|\n",
            "+-----------+-----+\n",
            "| C724452879|    3|\n",
            "|C1677795071|    3|\n",
            "|C2098525306|    3|\n",
            "|C1784010646|    3|\n",
            "|C1902386530|    3|\n",
            "+-----------+-----+\n",
            "only showing top 5 rows\n",
            "\n"
          ]
        }
      ]
    },
    {
      "cell_type": "markdown",
      "source": [
        "## 6. Conversão pra Pandas DataFrame"
      ],
      "metadata": {
        "id": "r-yjeY__tHNA"
      }
    },
    {
      "cell_type": "code",
      "source": [
        "# Contagem de transações por tipo\n",
        "transaction_counts = df.groupBy(\"type\").agg(count(\"*\").alias(\"qtd_transacoes\")).toPandas()\n",
        "\n",
        "# Criar gráfico de barras usando Plotly\n",
        "fig = go.Figure(data=[go.Bar(x=transaction_counts['type'], y=transaction_counts['qtd_transacoes'])])\n",
        "\n",
        "# Atualizar layout\n",
        "fig.update_layout(title_text=\"Contagem de Transações por Tipo\",\n",
        "                  xaxis_title=\"Tipo de Transação\",\n",
        "                  yaxis_title=\"Quantidade de Transações\")\n",
        "\n",
        "fig.show()"
      ],
      "metadata": {
        "colab": {
          "base_uri": "https://localhost:8080/",
          "height": 542
        },
        "id": "JxuDTNkls8ef",
        "outputId": "627615dd-f39a-4716-fa3d-882625f4cd5d"
      },
      "execution_count": 15,
      "outputs": [
        {
          "output_type": "display_data",
          "data": {
            "text/html": [
              "<html>\n",
              "<head><meta charset=\"utf-8\" /></head>\n",
              "<body>\n",
              "    <div>            <script src=\"https://cdnjs.cloudflare.com/ajax/libs/mathjax/2.7.5/MathJax.js?config=TeX-AMS-MML_SVG\"></script><script type=\"text/javascript\">if (window.MathJax && window.MathJax.Hub && window.MathJax.Hub.Config) {window.MathJax.Hub.Config({SVG: {font: \"STIX-Web\"}});}</script>                <script type=\"text/javascript\">window.PlotlyConfig = {MathJaxConfig: 'local'};</script>\n",
              "        <script charset=\"utf-8\" src=\"https://cdn.plot.ly/plotly-2.35.2.min.js\"></script>                <div id=\"999cc578-bd27-4cd2-ab9e-e7bf21fb187e\" class=\"plotly-graph-div\" style=\"height:525px; width:100%;\"></div>            <script type=\"text/javascript\">                                    window.PLOTLYENV=window.PLOTLYENV || {};                                    if (document.getElementById(\"999cc578-bd27-4cd2-ab9e-e7bf21fb187e\")) {                    Plotly.newPlot(                        \"999cc578-bd27-4cd2-ab9e-e7bf21fb187e\",                        [{\"x\":[\"PAYMENT\",\"DEBIT\",\"CASH_IN\",\"CASH_OUT\",\"TRANSFER\"],\"y\":[2151495,41432,1399284,2237500,532909],\"type\":\"bar\"}],                        {\"template\":{\"data\":{\"histogram2dcontour\":[{\"type\":\"histogram2dcontour\",\"colorbar\":{\"outlinewidth\":0,\"ticks\":\"\"},\"colorscale\":[[0.0,\"#0d0887\"],[0.1111111111111111,\"#46039f\"],[0.2222222222222222,\"#7201a8\"],[0.3333333333333333,\"#9c179e\"],[0.4444444444444444,\"#bd3786\"],[0.5555555555555556,\"#d8576b\"],[0.6666666666666666,\"#ed7953\"],[0.7777777777777778,\"#fb9f3a\"],[0.8888888888888888,\"#fdca26\"],[1.0,\"#f0f921\"]]}],\"choropleth\":[{\"type\":\"choropleth\",\"colorbar\":{\"outlinewidth\":0,\"ticks\":\"\"}}],\"histogram2d\":[{\"type\":\"histogram2d\",\"colorbar\":{\"outlinewidth\":0,\"ticks\":\"\"},\"colorscale\":[[0.0,\"#0d0887\"],[0.1111111111111111,\"#46039f\"],[0.2222222222222222,\"#7201a8\"],[0.3333333333333333,\"#9c179e\"],[0.4444444444444444,\"#bd3786\"],[0.5555555555555556,\"#d8576b\"],[0.6666666666666666,\"#ed7953\"],[0.7777777777777778,\"#fb9f3a\"],[0.8888888888888888,\"#fdca26\"],[1.0,\"#f0f921\"]]}],\"heatmap\":[{\"type\":\"heatmap\",\"colorbar\":{\"outlinewidth\":0,\"ticks\":\"\"},\"colorscale\":[[0.0,\"#0d0887\"],[0.1111111111111111,\"#46039f\"],[0.2222222222222222,\"#7201a8\"],[0.3333333333333333,\"#9c179e\"],[0.4444444444444444,\"#bd3786\"],[0.5555555555555556,\"#d8576b\"],[0.6666666666666666,\"#ed7953\"],[0.7777777777777778,\"#fb9f3a\"],[0.8888888888888888,\"#fdca26\"],[1.0,\"#f0f921\"]]}],\"heatmapgl\":[{\"type\":\"heatmapgl\",\"colorbar\":{\"outlinewidth\":0,\"ticks\":\"\"},\"colorscale\":[[0.0,\"#0d0887\"],[0.1111111111111111,\"#46039f\"],[0.2222222222222222,\"#7201a8\"],[0.3333333333333333,\"#9c179e\"],[0.4444444444444444,\"#bd3786\"],[0.5555555555555556,\"#d8576b\"],[0.6666666666666666,\"#ed7953\"],[0.7777777777777778,\"#fb9f3a\"],[0.8888888888888888,\"#fdca26\"],[1.0,\"#f0f921\"]]}],\"contourcarpet\":[{\"type\":\"contourcarpet\",\"colorbar\":{\"outlinewidth\":0,\"ticks\":\"\"}}],\"contour\":[{\"type\":\"contour\",\"colorbar\":{\"outlinewidth\":0,\"ticks\":\"\"},\"colorscale\":[[0.0,\"#0d0887\"],[0.1111111111111111,\"#46039f\"],[0.2222222222222222,\"#7201a8\"],[0.3333333333333333,\"#9c179e\"],[0.4444444444444444,\"#bd3786\"],[0.5555555555555556,\"#d8576b\"],[0.6666666666666666,\"#ed7953\"],[0.7777777777777778,\"#fb9f3a\"],[0.8888888888888888,\"#fdca26\"],[1.0,\"#f0f921\"]]}],\"surface\":[{\"type\":\"surface\",\"colorbar\":{\"outlinewidth\":0,\"ticks\":\"\"},\"colorscale\":[[0.0,\"#0d0887\"],[0.1111111111111111,\"#46039f\"],[0.2222222222222222,\"#7201a8\"],[0.3333333333333333,\"#9c179e\"],[0.4444444444444444,\"#bd3786\"],[0.5555555555555556,\"#d8576b\"],[0.6666666666666666,\"#ed7953\"],[0.7777777777777778,\"#fb9f3a\"],[0.8888888888888888,\"#fdca26\"],[1.0,\"#f0f921\"]]}],\"mesh3d\":[{\"type\":\"mesh3d\",\"colorbar\":{\"outlinewidth\":0,\"ticks\":\"\"}}],\"scatter\":[{\"fillpattern\":{\"fillmode\":\"overlay\",\"size\":10,\"solidity\":0.2},\"type\":\"scatter\"}],\"parcoords\":[{\"type\":\"parcoords\",\"line\":{\"colorbar\":{\"outlinewidth\":0,\"ticks\":\"\"}}}],\"scatterpolargl\":[{\"type\":\"scatterpolargl\",\"marker\":{\"colorbar\":{\"outlinewidth\":0,\"ticks\":\"\"}}}],\"bar\":[{\"error_x\":{\"color\":\"#2a3f5f\"},\"error_y\":{\"color\":\"#2a3f5f\"},\"marker\":{\"line\":{\"color\":\"#E5ECF6\",\"width\":0.5},\"pattern\":{\"fillmode\":\"overlay\",\"size\":10,\"solidity\":0.2}},\"type\":\"bar\"}],\"scattergeo\":[{\"type\":\"scattergeo\",\"marker\":{\"colorbar\":{\"outlinewidth\":0,\"ticks\":\"\"}}}],\"scatterpolar\":[{\"type\":\"scatterpolar\",\"marker\":{\"colorbar\":{\"outlinewidth\":0,\"ticks\":\"\"}}}],\"histogram\":[{\"marker\":{\"pattern\":{\"fillmode\":\"overlay\",\"size\":10,\"solidity\":0.2}},\"type\":\"histogram\"}],\"scattergl\":[{\"type\":\"scattergl\",\"marker\":{\"colorbar\":{\"outlinewidth\":0,\"ticks\":\"\"}}}],\"scatter3d\":[{\"type\":\"scatter3d\",\"line\":{\"colorbar\":{\"outlinewidth\":0,\"ticks\":\"\"}},\"marker\":{\"colorbar\":{\"outlinewidth\":0,\"ticks\":\"\"}}}],\"scattermapbox\":[{\"type\":\"scattermapbox\",\"marker\":{\"colorbar\":{\"outlinewidth\":0,\"ticks\":\"\"}}}],\"scatterternary\":[{\"type\":\"scatterternary\",\"marker\":{\"colorbar\":{\"outlinewidth\":0,\"ticks\":\"\"}}}],\"scattercarpet\":[{\"type\":\"scattercarpet\",\"marker\":{\"colorbar\":{\"outlinewidth\":0,\"ticks\":\"\"}}}],\"carpet\":[{\"aaxis\":{\"endlinecolor\":\"#2a3f5f\",\"gridcolor\":\"white\",\"linecolor\":\"white\",\"minorgridcolor\":\"white\",\"startlinecolor\":\"#2a3f5f\"},\"baxis\":{\"endlinecolor\":\"#2a3f5f\",\"gridcolor\":\"white\",\"linecolor\":\"white\",\"minorgridcolor\":\"white\",\"startlinecolor\":\"#2a3f5f\"},\"type\":\"carpet\"}],\"table\":[{\"cells\":{\"fill\":{\"color\":\"#EBF0F8\"},\"line\":{\"color\":\"white\"}},\"header\":{\"fill\":{\"color\":\"#C8D4E3\"},\"line\":{\"color\":\"white\"}},\"type\":\"table\"}],\"barpolar\":[{\"marker\":{\"line\":{\"color\":\"#E5ECF6\",\"width\":0.5},\"pattern\":{\"fillmode\":\"overlay\",\"size\":10,\"solidity\":0.2}},\"type\":\"barpolar\"}],\"pie\":[{\"automargin\":true,\"type\":\"pie\"}]},\"layout\":{\"autotypenumbers\":\"strict\",\"colorway\":[\"#636efa\",\"#EF553B\",\"#00cc96\",\"#ab63fa\",\"#FFA15A\",\"#19d3f3\",\"#FF6692\",\"#B6E880\",\"#FF97FF\",\"#FECB52\"],\"font\":{\"color\":\"#2a3f5f\"},\"hovermode\":\"closest\",\"hoverlabel\":{\"align\":\"left\"},\"paper_bgcolor\":\"white\",\"plot_bgcolor\":\"#E5ECF6\",\"polar\":{\"bgcolor\":\"#E5ECF6\",\"angularaxis\":{\"gridcolor\":\"white\",\"linecolor\":\"white\",\"ticks\":\"\"},\"radialaxis\":{\"gridcolor\":\"white\",\"linecolor\":\"white\",\"ticks\":\"\"}},\"ternary\":{\"bgcolor\":\"#E5ECF6\",\"aaxis\":{\"gridcolor\":\"white\",\"linecolor\":\"white\",\"ticks\":\"\"},\"baxis\":{\"gridcolor\":\"white\",\"linecolor\":\"white\",\"ticks\":\"\"},\"caxis\":{\"gridcolor\":\"white\",\"linecolor\":\"white\",\"ticks\":\"\"}},\"coloraxis\":{\"colorbar\":{\"outlinewidth\":0,\"ticks\":\"\"}},\"colorscale\":{\"sequential\":[[0.0,\"#0d0887\"],[0.1111111111111111,\"#46039f\"],[0.2222222222222222,\"#7201a8\"],[0.3333333333333333,\"#9c179e\"],[0.4444444444444444,\"#bd3786\"],[0.5555555555555556,\"#d8576b\"],[0.6666666666666666,\"#ed7953\"],[0.7777777777777778,\"#fb9f3a\"],[0.8888888888888888,\"#fdca26\"],[1.0,\"#f0f921\"]],\"sequentialminus\":[[0.0,\"#0d0887\"],[0.1111111111111111,\"#46039f\"],[0.2222222222222222,\"#7201a8\"],[0.3333333333333333,\"#9c179e\"],[0.4444444444444444,\"#bd3786\"],[0.5555555555555556,\"#d8576b\"],[0.6666666666666666,\"#ed7953\"],[0.7777777777777778,\"#fb9f3a\"],[0.8888888888888888,\"#fdca26\"],[1.0,\"#f0f921\"]],\"diverging\":[[0,\"#8e0152\"],[0.1,\"#c51b7d\"],[0.2,\"#de77ae\"],[0.3,\"#f1b6da\"],[0.4,\"#fde0ef\"],[0.5,\"#f7f7f7\"],[0.6,\"#e6f5d0\"],[0.7,\"#b8e186\"],[0.8,\"#7fbc41\"],[0.9,\"#4d9221\"],[1,\"#276419\"]]},\"xaxis\":{\"gridcolor\":\"white\",\"linecolor\":\"white\",\"ticks\":\"\",\"title\":{\"standoff\":15},\"zerolinecolor\":\"white\",\"automargin\":true,\"zerolinewidth\":2},\"yaxis\":{\"gridcolor\":\"white\",\"linecolor\":\"white\",\"ticks\":\"\",\"title\":{\"standoff\":15},\"zerolinecolor\":\"white\",\"automargin\":true,\"zerolinewidth\":2},\"scene\":{\"xaxis\":{\"backgroundcolor\":\"#E5ECF6\",\"gridcolor\":\"white\",\"linecolor\":\"white\",\"showbackground\":true,\"ticks\":\"\",\"zerolinecolor\":\"white\",\"gridwidth\":2},\"yaxis\":{\"backgroundcolor\":\"#E5ECF6\",\"gridcolor\":\"white\",\"linecolor\":\"white\",\"showbackground\":true,\"ticks\":\"\",\"zerolinecolor\":\"white\",\"gridwidth\":2},\"zaxis\":{\"backgroundcolor\":\"#E5ECF6\",\"gridcolor\":\"white\",\"linecolor\":\"white\",\"showbackground\":true,\"ticks\":\"\",\"zerolinecolor\":\"white\",\"gridwidth\":2}},\"shapedefaults\":{\"line\":{\"color\":\"#2a3f5f\"}},\"annotationdefaults\":{\"arrowcolor\":\"#2a3f5f\",\"arrowhead\":0,\"arrowwidth\":1},\"geo\":{\"bgcolor\":\"white\",\"landcolor\":\"#E5ECF6\",\"subunitcolor\":\"white\",\"showland\":true,\"showlakes\":true,\"lakecolor\":\"white\"},\"title\":{\"x\":0.05},\"mapbox\":{\"style\":\"light\"}}},\"title\":{\"text\":\"Contagem de Transações por Tipo\"},\"xaxis\":{\"title\":{\"text\":\"Tipo de Transação\"}},\"yaxis\":{\"title\":{\"text\":\"Quantidade de Transações\"}}},                        {\"responsive\": true}                    ).then(function(){\n",
              "                            \n",
              "var gd = document.getElementById('999cc578-bd27-4cd2-ab9e-e7bf21fb187e');\n",
              "var x = new MutationObserver(function (mutations, observer) {{\n",
              "        var display = window.getComputedStyle(gd).display;\n",
              "        if (!display || display === 'none') {{\n",
              "            console.log([gd, 'removed!']);\n",
              "            Plotly.purge(gd);\n",
              "            observer.disconnect();\n",
              "        }}\n",
              "}});\n",
              "\n",
              "// Listen for the removal of the full notebook cells\n",
              "var notebookContainer = gd.closest('#notebook-container');\n",
              "if (notebookContainer) {{\n",
              "    x.observe(notebookContainer, {childList: true});\n",
              "}}\n",
              "\n",
              "// Listen for the clearing of the current output cell\n",
              "var outputEl = gd.closest('.output');\n",
              "if (outputEl) {{\n",
              "    x.observe(outputEl, {childList: true});\n",
              "}}\n",
              "\n",
              "                        })                };                            </script>        </div>\n",
              "</body>\n",
              "</html>"
            ]
          },
          "metadata": {}
        }
      ]
    },
    {
      "cell_type": "markdown",
      "metadata": {
        "id": "2fa88d88"
      },
      "source": [
        "## 7. Acessando a Spark UI e History Server\n",
        "\n",
        "Para monitorar suas aplicações Spark e visualizar detalhes sobre as tarefas, *stages* e uso de recursos, você pode acessar a Spark UI. No Google Colab, como o ambiente não é diretamente acessível, utilizamos o serviço de tunelamento **ngrok** para expor a interface web do Spark (geralmente na porta 4040 ou 4050) para um endereço público na internet.\n",
        "\n",
        "Para configurar o ngrok:\n",
        "\n",
        "1.  **Obtenha seu token de autenticação ngrok:**\n",
        "    *   Acesse o site do ngrok: [https://dashboard.ngrok.com/get-started/your-authtoken](https://dashboard.ngrok.com/get-started/your-authtoken)\n",
        "    *   Crie uma conta (se ainda não tiver uma) e faça login.\n",
        "    *   Encontre seu token de autenticação na página.\n",
        "2.  **Configure o token no Colab:**\n",
        "    *   Armazene seu token obtido no passo 1 na variável `NGROK_AUTHTOKEN` na célula de código abaixo.\n",
        "3.  **Crie o túnel:**\n",
        "    *   Execute a célula de código que utiliza `ngrok.connect()` para criar o túnel. O código imprimirá um link público que você pode usar para acessar a Spark UI no seu navegador."
      ]
    },
    {
      "cell_type": "code",
      "source": [
        "NGROK_AUTHTOKEN = \"\" # Substitua pelo seu token de autenticação ngrok\n",
        "ngrok.set_auth_token(NGROK_AUTHTOKEN) # Configura o token de autenticação ngrok"
      ],
      "metadata": {
        "id": "y8Y0t7t2rp_0"
      },
      "execution_count": 18,
      "outputs": []
    },
    {
      "cell_type": "code",
      "source": [
        "# Abrir túnel na porta 4050 (Spark UI)\n",
        "public_url = ngrok.connect(4050)\n",
        "print(f\"Spark UI disponível em: {public_url}\")"
      ],
      "metadata": {
        "colab": {
          "base_uri": "https://localhost:8080/"
        },
        "id": "l9cfZXSst7j7",
        "outputId": "b6eea1c4-1b33-4ccf-f3f8-69c3020027fd"
      },
      "execution_count": 19,
      "outputs": [
        {
          "output_type": "stream",
          "name": "stdout",
          "text": [
            "Spark UI disponível em: NgrokTunnel: \"https://526fcd5e12d3.ngrok-free.app\" -> \"http://localhost:4050\"\n"
          ]
        }
      ]
    }
  ]
}